{
  "metadata": {
    "kernelspec": {
      "name": "python",
      "display_name": "Python (Pyodide)",
      "language": "python"
    },
    "language_info": {
      "codemirror_mode": {
        "name": "python",
        "version": 3
      },
      "file_extension": ".py",
      "mimetype": "text/x-python",
      "name": "python",
      "nbconvert_exporter": "python",
      "pygments_lexer": "ipython3",
      "version": "3.8"
    }
  },
  "nbformat_minor": 4,
  "nbformat": 4,
  "cells": [
    {
      "cell_type": "code",
      "source": "import pandas as pd",
      "metadata": {
        "trusted": true
      },
      "outputs": [],
      "execution_count": null
    },
    {
      "cell_type": "code",
      "source": "df = pd.read_csv(\"Original Customer Purchase Behaviour Analysis.csv\")",
      "metadata": {
        "trusted": true
      },
      "outputs": [],
      "execution_count": 2
    },
    {
      "cell_type": "code",
      "source": "Understanding the Data",
      "metadata": {
        "trusted": true
      },
      "outputs": [],
      "execution_count": null
    },
    {
      "cell_type": "code",
      "source": "print(df.head())",
      "metadata": {
        "trusted": true
      },
      "outputs": [
        {
          "name": "stdout",
          "text": "                         Transaction ID                           Customer ID  \\\n0  dc1de28d-ef0c-4fdb-a6a3-c9c7672a24de  cda3f5ab-58cd-40d5-8624-120b2cadb18c   \n1  e174f2e4-457f-47fb-b33f-7317e3871a98  28230531-bed7-4868-b790-fe0d2e5bf2b4   \n2  65d3bf79-85d0-4220-99b4-b970b78f1eb0  d743f3d1-e47e-43e4-bc0a-cc8d53739682   \n3  9347db94-fb8f-4ec1-b60e-9b273d024f0b  b4e7f41a-3a6a-4fcb-92fe-64339f9bfa3a   \n4  8792cd7f-0c43-436d-9a55-fc405834453e  6d9f27cc-9bfe-4e63-92b8-82f4af2902b2   \n\n      Product     Category   Price  Quantity Purchased  Total Amount  \\\n0    Keyboard  Electronics  105.34                 5.0        526.70   \n1  Smartphone  Accessories  820.13                 5.0       4100.65   \n2      Tablet  Accessories  200.43                 2.0        400.86   \n3     Monitor          NaN  175.13                 1.0        175.13   \n4    Keyboard  Accessories  967.73                 3.0       2903.19   \n\n  Purchase Date  \n0    2024-07-18  \n1    2024-12-07  \n2    2024-07-03  \n3    2024-09-08  \n4    2024-12-17  \n",
          "output_type": "stream"
        }
      ],
      "execution_count": 3
    },
    {
      "cell_type": "code",
      "source": "print(df.info())",
      "metadata": {
        "trusted": true
      },
      "outputs": [
        {
          "name": "stdout",
          "text": "<class 'pandas.core.frame.DataFrame'>\nRangeIndex: 10510 entries, 0 to 10509\nData columns (total 8 columns):\n #   Column              Non-Null Count  Dtype  \n---  ------              --------------  -----  \n 0   Transaction ID      10500 non-null  object \n 1   Customer ID         10500 non-null  object \n 2   Product             10500 non-null  object \n 3   Category            9423 non-null   object \n 4   Price               9977 non-null   float64\n 5   Quantity Purchased  9429 non-null   float64\n 6   Total Amount        8966 non-null   float64\n 7   Purchase Date       10500 non-null  object \ndtypes: float64(3), object(5)\nmemory usage: 451.7+ KB\nNone\n",
          "output_type": "stream"
        }
      ],
      "execution_count": 4
    },
    {
      "cell_type": "code",
      "source": "print(df.describe())",
      "metadata": {
        "trusted": true
      },
      "outputs": [
        {
          "name": "stdout",
          "text": "             Price  Quantity Purchased  Total Amount\ncount  9977.000000         9429.000000   8966.000000\nmean    529.872277            3.001379   1587.219820\nstd     272.872227            1.409217   1174.927403\nmin      50.150000            1.000000     50.730000\n25%     296.290000            2.000000    636.327500\n50%     526.660000            3.000000   1284.075000\n75%     767.680000            4.000000   2345.527500\nmax     999.860000            5.000000   4997.800000\n",
          "output_type": "stream"
        }
      ],
      "execution_count": 5
    },
    {
      "cell_type": "code",
      "source": "print(df.dtypes)",
      "metadata": {
        "trusted": true
      },
      "outputs": [
        {
          "name": "stdout",
          "text": "Transaction ID         object\nCustomer ID            object\nProduct                object\nCategory               object\nPrice                 float64\nQuantity Purchased    float64\nTotal Amount          float64\nPurchase Date          object\ndtype: object\n",
          "output_type": "stream"
        }
      ],
      "execution_count": 12
    },
    {
      "cell_type": "code",
      "source": "Checking for missing values",
      "metadata": {
        "trusted": true
      },
      "outputs": [],
      "execution_count": null
    },
    {
      "cell_type": "code",
      "source": "print(df.isnull().sum())",
      "metadata": {
        "trusted": true
      },
      "outputs": [
        {
          "name": "stdout",
          "text": "Transaction ID          10\nCustomer ID             10\nProduct                 10\nCategory              1087\nPrice                  533\nQuantity Purchased    1081\nTotal Amount          1544\nPurchase Date           10\ndtype: int64\n",
          "output_type": "stream"
        }
      ],
      "execution_count": 6
    },
    {
      "cell_type": "code",
      "source": "Dropping rows that doesnot have essential identifiers",
      "metadata": {
        "trusted": true
      },
      "outputs": [],
      "execution_count": null
    },
    {
      "cell_type": "code",
      "source": "df = df.dropna(subset=['Transaction ID', 'Customer ID', 'Purchase Date'])",
      "metadata": {
        "trusted": true
      },
      "outputs": [],
      "execution_count": 7
    },
    {
      "cell_type": "code",
      "source": "Filling missing values for product and category as Unknown",
      "metadata": {
        "trusted": true
      },
      "outputs": [],
      "execution_count": null
    },
    {
      "cell_type": "code",
      "source": "df['Product'] = df['Product'].fillna('Unknown')\ndf['Category'] = df['Category'].fillna('Unknown')",
      "metadata": {
        "trusted": true
      },
      "outputs": [],
      "execution_count": 8
    },
    {
      "cell_type": "code",
      "source": "Filling Price and Quantity Purchased with median values",
      "metadata": {
        "trusted": true
      },
      "outputs": [],
      "execution_count": null
    },
    {
      "cell_type": "code",
      "source": "df['Price'] = df['Price'].fillna(df['Price'].median())\ndf['Quantity Purchased'] = df['Quantity Purchased'].fillna(df['Quantity Purchased'].median())",
      "metadata": {
        "trusted": true
      },
      "outputs": [],
      "execution_count": 9
    },
    {
      "cell_type": "code",
      "source": "Filling all the total amount missing by calculating it using Price and Quantity purchased",
      "metadata": {
        "trusted": true
      },
      "outputs": [],
      "execution_count": null
    },
    {
      "cell_type": "code",
      "source": "df['Total Amount'] = df['Total Amount'].fillna(df['Price'] * df['Quantity Purchased'])",
      "metadata": {
        "trusted": true
      },
      "outputs": [],
      "execution_count": 10
    },
    {
      "cell_type": "code",
      "source": "Dropping rows where Total Amount is still missing",
      "metadata": {
        "trusted": true
      },
      "outputs": [],
      "execution_count": null
    },
    {
      "cell_type": "code",
      "source": "df = df.dropna(subset=['Total Amount'])",
      "metadata": {
        "trusted": true
      },
      "outputs": [],
      "execution_count": 11
    },
    {
      "cell_type": "code",
      "source": "Converting some of the data to appropriate data types",
      "metadata": {
        "trusted": true
      },
      "outputs": [],
      "execution_count": null
    },
    {
      "cell_type": "code",
      "source": "df['Transaction ID'] = df['Transaction ID'].astype(str)\ndf['Customer ID'] = df['Customer ID'].astype(str)\ndf['Product'] = df['Product'].astype(str)\ndf['Category'] = df['Category'].fillna('Unknown').astype(str)\ndf['Price'] = pd.to_numeric(df['Price'], errors='coerce')\ndf['Quantity Purchased'] = df['Quantity Purchased'].fillna(0).astype(int)\ndf['Total Amount'] = df['Price'] * df['Quantity Purchased']\ndf['Purchase Date'] = pd.to_datetime(df['Purchase Date'], errors='coerce')",
      "metadata": {
        "trusted": true
      },
      "outputs": [],
      "execution_count": 13
    },
    {
      "cell_type": "code",
      "source": "print(df.dtypes)",
      "metadata": {
        "trusted": true
      },
      "outputs": [
        {
          "name": "stdout",
          "text": "Transaction ID                object\nCustomer ID                   object\nProduct                       object\nCategory                      object\nPrice                        float64\nQuantity Purchased             int32\nTotal Amount                 float64\nPurchase Date         datetime64[ns]\ndtype: object\n",
          "output_type": "stream"
        }
      ],
      "execution_count": 14
    },
    {
      "cell_type": "code",
      "source": "Exporting cleaned data",
      "metadata": {
        "trusted": true
      },
      "outputs": [],
      "execution_count": null
    },
    {
      "cell_type": "code",
      "source": "df.to_csv(\"cleaned_customer_purchase_data.csv\", index=False)",
      "metadata": {
        "trusted": true
      },
      "outputs": [],
      "execution_count": 17
    },
    {
      "cell_type": "code",
      "source": "",
      "metadata": {
        "trusted": true
      },
      "outputs": [],
      "execution_count": null
    }
  ]
}